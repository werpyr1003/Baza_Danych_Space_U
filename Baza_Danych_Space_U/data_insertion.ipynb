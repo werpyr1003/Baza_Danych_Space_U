{
 "cells": [
  {
   "cell_type": "markdown",
   "id": "88d76a7a",
   "metadata": {},
   "source": [
    "laczenie do serwera"
   ]
  },
  {
   "cell_type": "code",
   "execution_count": 1,
   "id": "9d39fa92",
   "metadata": {},
   "outputs": [],
   "source": [
    "from sqlalchemy import create_engine, text\n",
    "from urllib.parse import quote_plus\n",
    "import pandas as pd\n",
    "\n",
    "username = \"team08\"\n",
    "password = quote_plus(\"te@mlob\")  # koduje hasło bezpiecznie\n",
    "host = \"giniewicz.it\"\n",
    "port = 3306\n",
    "database = \"team08\"\n",
    "\n",
    "engine = create_engine(\n",
    "    f\"mysql+pymysql://{username}:{password}@{host}:{port}/{database}\"\n",
    ")"
   ]
  },
  {
   "cell_type": "markdown",
   "id": "feb009f5",
   "metadata": {},
   "source": [
    "wczytanie csv do tabeli"
   ]
  },
  {
   "cell_type": "code",
   "execution_count": 2,
   "id": "8ebb9b9e",
   "metadata": {},
   "outputs": [
    {
     "name": "stdout",
     "output_type": "stream",
     "text": [
      " Wyłączam sprawdzanie kluczy obcych...\n",
      "Czyszczenie tabeli: cost\n",
      "Czyszczenie tabeli: transaction\n",
      "Czyszczenie tabeli: booking\n",
      "Czyszczenie tabeli: client\n",
      "Czyszczenie tabeli: client_contact\n",
      "Czyszczenie tabeli: emergency_contact\n",
      "Czyszczenie tabeli: trip_employee\n",
      "Czyszczenie tabeli: trip\n",
      "Czyszczenie tabeli: trip_type\n",
      "Czyszczenie tabeli: employee\n",
      "Czyszczenie tabeli: rocket\n",
      "Czyszczenie tabeli: planet\n",
      "Czyszczenie tabeli: planetary_system\n",
      "Czyszczenie tabeli: galaxy\n",
      "Włączam ponownie klucze obce...\n",
      " Wszystkie tabele zostały wyczyszczone.\n"
     ]
    }
   ],
   "source": [
    "tables_and_paths = [\n",
    "    (\"galaxy\", \"galaxy_final.csv\"),\n",
    "    (\"planetary_system\", \"planetary_system_final.csv\"),\n",
    "    (\"planet\", \"planet_final.csv\"),\n",
    "    (\"rocket\", \"rocket_final.csv\"),\n",
    "    (\"employee\", \"employee_final.csv\"),\n",
    "    (\"trip_type\", \"trip_type_final.csv\"),\n",
    "    (\"trip\", \"trip_final.csv\"),\n",
    "    (\"trip_employee\", \"trip_employee_final.csv\"),\n",
    "    (\"emergency_contact\", \"emergency_contact_final.csv\"),\n",
    "    (\"client_contact\", \"client_contact_final.csv\"),\n",
    "    (\"client\", \"client_final.csv\"),\n",
    "    (\"booking\", \"booking_final.csv\"),\n",
    "    (\"transaction\", \"transaction_final.csv\"),\n",
    "    (\"cost\", \"cost_final.csv\")\n",
    "]\n",
    "\n",
    "\n",
    "\n",
    "with engine.begin() as conn:\n",
    "    print(\" Wyłączam sprawdzanie kluczy obcych...\")\n",
    "    conn.execute(text(\"SET FOREIGN_KEY_CHECKS = 0;\"))\n",
    "\n",
    "    for table, _ in reversed(tables_and_paths):\n",
    "        print(f\"Czyszczenie tabeli: {table}\")\n",
    "        conn.execute(text(f\"TRUNCATE TABLE {table}\"))\n",
    "\n",
    "    print(\"Włączam ponownie klucze obce...\")\n",
    "    conn.execute(text(\"SET FOREIGN_KEY_CHECKS = 1;\"))\n",
    "\n",
    "print(\" Wszystkie tabele zostały wyczyszczone.\")"
   ]
  },
  {
   "cell_type": "code",
   "execution_count": 3,
   "id": "4ef9198f",
   "metadata": {},
   "outputs": [
    {
     "name": "stdout",
     "output_type": "stream",
     "text": [
      "Ładowanie danych do tabeli galaxy z pliku: galaxy_final.csv\n",
      "Ładowanie danych do tabeli planetary_system z pliku: planetary_system_final.csv\n",
      "Ładowanie danych do tabeli planet z pliku: planet_final.csv\n",
      "Ładowanie danych do tabeli rocket z pliku: rocket_final.csv\n",
      "Ładowanie danych do tabeli employee z pliku: employee_final.csv\n",
      "Ładowanie danych do tabeli trip_type z pliku: trip_type_final.csv\n",
      "Ładowanie danych do tabeli trip z pliku: trip_final.csv\n",
      "Ładowanie danych do tabeli trip_employee z pliku: trip_employee_final.csv\n",
      "Ładowanie danych do tabeli emergency_contact z pliku: emergency_contact_final.csv\n",
      "Ładowanie danych do tabeli client_contact z pliku: client_contact_final.csv\n",
      "Ładowanie danych do tabeli client z pliku: client_final.csv\n",
      "Ładowanie danych do tabeli booking z pliku: booking_final.csv\n",
      "Ładowanie danych do tabeli transaction z pliku: transaction_final.csv\n",
      "Ładowanie danych do tabeli cost z pliku: cost_final.csv\n",
      "Wszystkie dane zostały załadowane poprawnie.\n"
     ]
    }
   ],
   "source": [
    "for table, path in tables_and_paths:\n",
    "    print(f\"Ładowanie danych do tabeli {table} z pliku: {path}\")\n",
    "    df = pd.read_csv(path)\n",
    "    df.to_sql(table, con=engine, if_exists=\"append\", index=False, method=\"multi\")\n",
    "\n",
    "print(\"Wszystkie dane zostały załadowane poprawnie.\")"
   ]
  }
 ],
 "metadata": {
  "kernelspec": {
   "display_name": ".venv",
   "language": "python",
   "name": "python3"
  },
  "language_info": {
   "codemirror_mode": {
    "name": "ipython",
    "version": 3
   },
   "file_extension": ".py",
   "mimetype": "text/x-python",
   "name": "python",
   "nbconvert_exporter": "python",
   "pygments_lexer": "ipython3",
   "version": "3.10.8"
  }
 },
 "nbformat": 4,
 "nbformat_minor": 5
}
